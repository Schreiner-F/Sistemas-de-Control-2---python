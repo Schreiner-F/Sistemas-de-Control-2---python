{
  "nbformat": 4,
  "nbformat_minor": 0,
  "metadata": {
    "colab": {
      "provenance": [],
      "authorship_tag": "ABX9TyN7K6k2RGpTy+UmS3/TJy8B",
      "include_colab_link": true
    },
    "kernelspec": {
      "name": "python3",
      "display_name": "Python 3"
    },
    "language_info": {
      "name": "python"
    }
  },
  "cells": [
    {
      "cell_type": "markdown",
      "metadata": {
        "id": "view-in-github",
        "colab_type": "text"
      },
      "source": [
        "<a href=\"https://colab.research.google.com/github/Schreiner-F/Sistemas-de-Control-2-2025/blob/main/1_2.ipynb\" target=\"_parent\"><img src=\"https://colab.research.google.com/assets/colab-badge.svg\" alt=\"Open In Colab\"/></a>"
      ]
    },
    {
      "cell_type": "code",
      "execution_count": 2,
      "metadata": {
        "colab": {
          "base_uri": "https://localhost:8080/"
        },
        "id": "6atWQ0I5BfYz",
        "outputId": "7b5634fc-6a5a-4e07-a2e1-0ba7be3c47a3"
      },
      "outputs": [
        {
          "output_type": "stream",
          "name": "stdout",
          "text": [
            "Collecting control\n",
            "  Downloading control-0.10.1-py3-none-any.whl.metadata (7.6 kB)\n",
            "Requirement already satisfied: numpy>=1.23 in /usr/local/lib/python3.11/dist-packages (from control) (2.0.2)\n",
            "Requirement already satisfied: scipy>=1.8 in /usr/local/lib/python3.11/dist-packages (from control) (1.14.1)\n",
            "Requirement already satisfied: matplotlib>=3.6 in /usr/local/lib/python3.11/dist-packages (from control) (3.10.0)\n",
            "Requirement already satisfied: contourpy>=1.0.1 in /usr/local/lib/python3.11/dist-packages (from matplotlib>=3.6->control) (1.3.1)\n",
            "Requirement already satisfied: cycler>=0.10 in /usr/local/lib/python3.11/dist-packages (from matplotlib>=3.6->control) (0.12.1)\n",
            "Requirement already satisfied: fonttools>=4.22.0 in /usr/local/lib/python3.11/dist-packages (from matplotlib>=3.6->control) (4.57.0)\n",
            "Requirement already satisfied: kiwisolver>=1.3.1 in /usr/local/lib/python3.11/dist-packages (from matplotlib>=3.6->control) (1.4.8)\n",
            "Requirement already satisfied: packaging>=20.0 in /usr/local/lib/python3.11/dist-packages (from matplotlib>=3.6->control) (24.2)\n",
            "Requirement already satisfied: pillow>=8 in /usr/local/lib/python3.11/dist-packages (from matplotlib>=3.6->control) (11.1.0)\n",
            "Requirement already satisfied: pyparsing>=2.3.1 in /usr/local/lib/python3.11/dist-packages (from matplotlib>=3.6->control) (3.2.3)\n",
            "Requirement already satisfied: python-dateutil>=2.7 in /usr/local/lib/python3.11/dist-packages (from matplotlib>=3.6->control) (2.8.2)\n",
            "Requirement already satisfied: six>=1.5 in /usr/local/lib/python3.11/dist-packages (from python-dateutil>=2.7->matplotlib>=3.6->control) (1.17.0)\n",
            "Downloading control-0.10.1-py3-none-any.whl (549 kB)\n",
            "\u001b[2K   \u001b[90m━━━━━━━━━━━━━━━━━━━━━━━━━━━━━━━━━━━━━━━━\u001b[0m \u001b[32m549.6/549.6 kB\u001b[0m \u001b[31m22.9 MB/s\u001b[0m eta \u001b[36m0:00:00\u001b[0m\n",
            "\u001b[?25hInstalling collected packages: control\n",
            "Successfully installed control-0.10.1\n",
            "Requirement already satisfied: xlrd in /usr/local/lib/python3.11/dist-packages (2.0.1)\n"
          ]
        }
      ],
      "source": [
        "!pip install control\n",
        "!pip install xlrd"
      ]
    },
    {
      "cell_type": "code",
      "source": [
        "import numpy as np\n",
        "import pandas as pd\n",
        "import matplotlib.pyplot as plt\n",
        "from control import tf, step_response\n",
        "import math"
      ],
      "metadata": {
        "id": "PDz2GRxcCv7I"
      },
      "execution_count": null,
      "outputs": []
    },
    {
      "cell_type": "code",
      "source": [
        "# Cargar datos desde Excel\n",
        "archivo = 'Curvas_Medidas_RLC_2025.xls'\n",
        "hoja = 'Hoja1'"
      ],
      "metadata": {
        "id": "wDWQhglIC0HQ"
      },
      "execution_count": null,
      "outputs": []
    },
    {
      "cell_type": "code",
      "source": [
        "# Leer todo el archivo como tabla\n",
        "df = pd.read_excel(archivo, sheet_name=hoja)\n",
        "print(df.iloc[99:101])"
      ],
      "metadata": {
        "id": "-3Mcvs7MC1O9"
      },
      "execution_count": null,
      "outputs": []
    },
    {
      "cell_type": "code",
      "source": [
        "# Leer los datos\n",
        "t0 = pd.read_excel(archivo, sheet_name=hoja, usecols=\"A\", skiprows=999, nrows=19999).squeeze().to_numpy() - 0.01\n",
        "i = pd.read_excel(archivo, sheet_name=hoja, usecols=\"B\", skiprows=999, nrows=19999).squeeze().to_numpy()\n",
        "Vc = pd.read_excel(archivo, sheet_name=hoja, usecols=\"C\", skiprows=999, nrows=19999).squeeze().to_numpy()\n"
      ],
      "metadata": {
        "id": "NBSzr3n5C2MQ"
      },
      "execution_count": null,
      "outputs": []
    },
    {
      "cell_type": "code",
      "source": [
        "# Gráfico para la tensión en el capacitor\n",
        "plt.figure(figsize=(10, 5))\n",
        "plt.plot(t0, Vc, label=\"Vc (Tensión en el capacitor)\", color='b')\n",
        "plt.xlabel(\"Tiempo (s)\")\n",
        "plt.ylabel(\"Tensión (V)\")\n",
        "plt.title(\"Tensión en el capacitor\")\n",
        "plt.grid(True)\n",
        "plt.legend()\n",
        "plt.tight_layout()\n",
        "plt.show()\n",
        "\n",
        "# Gráfico para la corriente\n",
        "plt.figure(figsize=(10, 5))\n",
        "plt.plot(t0, i, label=\"Corriente\", color='r')\n",
        "plt.xlabel(\"Tiempo (s)\")\n",
        "plt.ylabel(\"Corriente (A)\")\n",
        "plt.title(\"Corriente\")\n",
        "plt.grid(True)\n",
        "plt.legend()\n",
        "plt.tight_layout()\n",
        "plt.show()\n"
      ],
      "metadata": {
        "id": "EhFNmXGEC4u4"
      },
      "execution_count": null,
      "outputs": []
    },
    {
      "cell_type": "code",
      "source": [
        "# Configurar entrada escalón\n",
        "StepAmplitude = 12\n",
        "\n",
        "t0 = t0[:4000]\n",
        "i = i[:4000]\n",
        "Vc = Vc[:4000]\n",
        "\n",
        "t_inic = t0[80]"
      ],
      "metadata": {
        "id": "bpQchk_DC5bI"
      },
      "execution_count": null,
      "outputs": []
    },
    {
      "cell_type": "code",
      "source": [
        "# Encontrar valores necesarios para el método de Chema\n",
        "def find_nearest_index(array, value):\n",
        "    return np.argmin(np.abs(array - value))\n",
        "\n",
        "idx_t1 = find_nearest_index(t0, t_inic)\n",
        "idx_2t1 = find_nearest_index(t0, 2 * t_inic)\n",
        "idx_3t1 = find_nearest_index(t0, 3 * t_inic)\n",
        "\n",
        "y_t1 = Vc[idx_t1]\n",
        "t_t1 = t0[idx_t1]\n",
        "y_2t1 = Vc[idx_2t1]\n",
        "t_2t1 = t0[idx_2t1]\n",
        "y_3t1 = Vc[idx_3t1]\n",
        "t_3t1 = t0[idx_3t1]\n",
        "\n",
        "print(y_t1,y_2t1,y_3t1)"
      ],
      "metadata": {
        "id": "gPHmvEQ7C8xN"
      },
      "execution_count": null,
      "outputs": []
    },
    {
      "cell_type": "code",
      "source": [
        "# Constante de ganancia\n",
        "K = Vc[-1] / StepAmplitude\n",
        "\n",
        "k1 = (1 / StepAmplitude) * y_t1 / K - 1\n",
        "k2 = (1 / StepAmplitude) * y_2t1 / K - 1\n",
        "k3 = (1 / StepAmplitude) * y_3t1 / K - 1\n",
        "\n",
        "# Discriminante\n",
        "be = 4 * k1**3 * k3 - 3 * k1**2 * k2**2 - 4 * k2**3 + k3**2 + 6 * k1 * k2 * k3\n",
        "\n",
        "alfa1 = (k1 * k2 + k3 - np.sqrt(be)) / (2 * (k1**2 + k2))\n",
        "alfa2 = (k1 * k2 + k3 + np.sqrt(be)) / (2 * (k1**2 + k2))\n",
        "\n",
        "beta = (k1 + alfa2) / (alfa1 - alfa2)\n",
        "\n",
        "T1_ang = -t_t1 / np.log(alfa1)\n",
        "T2_ang = -t_t1 / np.log(alfa2)\n",
        "T3_ang = beta * (T1_ang - T2_ang) + T1_ang\n",
        "\n",
        "# Crear función de transferencia angular\n",
        "num = K * np.array([T3_ang, 1])\n",
        "den = np.convolve([T1_ang, 1], [T2_ang, 1])\n",
        "sys_G_ang = tf(num, den)\n",
        "\n",
        "# Planteamos un R arbitrario\n",
        "R = 80\n",
        "\n",
        "# Extraemos coeficientes\n",
        "num_tf = np.squeeze(sys_G_ang.num)\n",
        "den_tf = np.squeeze(sys_G_ang.den)\n",
        "den_tf = den_tf / den_tf[0]  # Normalizar\n",
        "\n"
      ],
      "metadata": {
        "id": "zctGe5wOC-Wt"
      },
      "execution_count": null,
      "outputs": []
    },
    {
      "cell_type": "code",
      "source": [
        "# Cálculo de L y C\n",
        "L = R / den_tf[1]\n",
        "C = 1 / (L * den_tf[2])\n",
        "\n",
        "# Normalizamos numerador y adaptamos a forma estándar RLC\n",
        "num_tf = num_tf / num_tf[-1]\n",
        "num_tf[-1] = num_tf[-1] * (1 / (L * C))\n",
        "G = tf(num_tf, [1, R/L, 1/(L*C)])\n",
        "\n",
        "# Simulación de ambas respuestas al escalón\n",
        "t_sim = np.linspace(0, t0[-1], 1000)\n",
        "t1, y1 = step_response(sys_G_ang, t_sim)\n",
        "t2, y2 = step_response(G, t_sim)\n"
      ],
      "metadata": {
        "id": "GOmK-OiYC_Oo"
      },
      "execution_count": null,
      "outputs": []
    },
    {
      "cell_type": "code",
      "source": [
        "# Gráficas\n",
        "import matplotlib.pyplot as plt\n",
        "\n",
        "# Crear figura\n",
        "plt.figure(figsize=(14, 10))\n",
        "\n",
        "# Subgráfico 1: Respuesta Vc (Excel)\n",
        "plt.subplot(2, 2, 1)  # 2 filas, 2 columnas, primer subgráfico\n",
        "plt.plot(t0, Vc, 'k--', label='Respuesta Vc (Excel)')\n",
        "plt.xlabel('Tiempo [s]')\n",
        "plt.ylabel('Voltaje en el capacitor [V]')\n",
        "plt.title('Respuesta Vc (Excel)')\n",
        "plt.legend()\n",
        "plt.grid(True)\n",
        "\n",
        "# Subgráfico 2: Modelo Identificado (Chema)\n",
        "plt.subplot(2, 2, 2)  # 2 filas, 2 columnas, segundo subgráfico\n",
        "plt.plot(t1, y1 * StepAmplitude, 'b', label='Modelo Identificado (Chema)')\n",
        "plt.xlabel('Tiempo [s]')\n",
        "plt.ylabel('Voltaje en el capacitor [V]')\n",
        "plt.title('Modelo Identificado (Chema)')\n",
        "plt.legend()\n",
        "plt.grid(True)\n",
        "\n",
        "# Subgráfico 3: Modelo Estimado con R Arbitrario\n",
        "plt.subplot(2, 2, 3)  # 2 filas, 2 columnas, tercer subgráfico\n",
        "plt.plot(t2, y2 * StepAmplitude, 'r', label='Modelo Estimado con R arbitrario')\n",
        "plt.xlabel('Tiempo [s]')\n",
        "plt.ylabel('Voltaje en el capacitor [V]')\n",
        "plt.title('Modelo Estimado con R Arbitrario')\n",
        "plt.legend()\n",
        "plt.grid(True)\n",
        "\n",
        "# Subgráfico 4: Comparación de los 3 modelos\n",
        "plt.subplot(2, 2, 4)  # 2 filas, 2 columnas, cuarto subgráfico\n",
        "plt.xlim(0, 0.0025)   # Zoom en el tiempo (0 a 0.0025 s)\n",
        "plt.ylim(10, 12)      # Zoom en el voltaje (10 a 12 V)\n",
        "plt.plot(t0, Vc, 'k--', label='Respuesta Vc (Excel)')\n",
        "plt.plot(t1, y1 * StepAmplitude, 'b', label='Modelo Identificado (Chema)')\n",
        "plt.plot(t2, y2 * StepAmplitude, 'r', label='Modelo Estimado con R arbitrario')\n",
        "plt.xlabel('Tiempo [s]')\n",
        "plt.ylabel('Voltaje en el capacitor [V]')\n",
        "plt.title('Comparación de Respuestas')\n",
        "plt.legend()\n",
        "plt.grid(True)\n",
        "\n",
        "# Ajustar el layout para que no se superpongan los subgráficos\n",
        "plt.tight_layout()\n",
        "\n",
        "# Mostrar el gráfico\n",
        "plt.show()\n",
        "\n"
      ],
      "metadata": {
        "id": "sn3MfqQLDA24"
      },
      "execution_count": null,
      "outputs": []
    },
    {
      "cell_type": "code",
      "source": [
        "import numpy as np\n",
        "import control as ctrl\n",
        "\n",
        "# Asegurémonos de que los coeficientes sean arrays unidimensionales\n",
        "num_G = np.squeeze(G.num)  # Numerador de G\n",
        "den_G = np.squeeze(G.den)  # Denominador de G\n",
        "\n",
        "# Ahora puedes calcular los polos de G\n",
        "poles_G = np.roots(den_G)\n",
        "print(\"Polos de G:\", poles_G)\n",
        "\n",
        "# Asegurémonos de que el denominador y numerador estén normalizados\n",
        "num_tf = num_tf / np.max(np.abs(num_tf))  # Normalizar el numerador\n",
        "den_tf = den_tf / np.max(np.abs(den_tf))  # Normalizar el denominador\n",
        "\n",
        "# Crear la función de transferencia normalizada\n",
        "sys_G_ang = ctrl.TransferFunction(num_tf, den_tf)\n",
        "\n",
        "# Ahora calcula los polos de la función de transferencia\n",
        "poles_sys_G_ang = ctrl.pole(sys_G_ang)\n",
        "print(\"Polos de sys_G_ang:\", poles_sys_G_ang)\n",
        "\n"
      ],
      "metadata": {
        "id": "Uj_6_9BIDDH-"
      },
      "execution_count": null,
      "outputs": []
    },
    {
      "cell_type": "code",
      "source": [
        "# Imprimir resultados\n",
        "print(f\"Ganancia K: {K:.4f}\")\n",
        "print(f\"T1: {T1_ang:.6f} s, T2: {T2_ang:.6f} s, T3: {T3_ang:.6f} s\")\n",
        "print(f\"Parámetros estimados -> R: {R} Ω, L: {L:.6e} H, C: {C:.6e} F\")"
      ],
      "metadata": {
        "id": "Ddb-Lii0DGn3"
      },
      "execution_count": null,
      "outputs": []
    }
  ]
}